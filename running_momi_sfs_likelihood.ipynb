{
 "cells": [
  {
   "cell_type": "code",
   "execution_count": null,
   "id": "10d0fa5c",
   "metadata": {},
   "outputs": [],
   "source": [
    "import msprime as msp\n",
    "import demes\n",
    "import demesdraw\n",
    "\n",
    "Ne = 1e4\n",
    "q_anc = Ne * 2.0\n",
    "q0 = Ne * 2.0\n",
    "q1 = Ne * 1.0\n",
    "m = 0.0001\n",
    "tau = 1000\n",
    "demo = msp.Demography()\n",
    "demo.add_population(initial_size= q_anc, name = \"anc\")\n",
    "demo.add_population(initial_size = q0, name = \"P0\")\n",
    "demo.add_population(initial_size = q1, name = \"P1\")\n",
    "demo.set_symmetric_migration_rate(populations=(\"P0\", \"P1\"), rate= m)\n",
    "tmp = [f\"P{i}\" for i in range(2)]\n",
    "demo.add_population_split(time = tau, derived=tmp, ancestral=\"anc\")\n",
    "g = demo.to_demes()\n",
    "demesdraw.tubes(g)\n",
    "# print(g)\n",
    "sample_size = 10\n",
    "samples = {f\"P{i}\": sample_size for i in range(2)}\n",
    "anc = msp.sim_ancestry(samples=samples, demography=demo, recombination_rate=1e-8, sequence_length=1e8, random_seed=42)\n",
    "ts = msp.sim_mutations(anc, rate=1e-8, random_seed=42)\n",
    "\n",
    "import jax.random as jr\n",
    "import numpy as np\n",
    "import random\n",
    "key = jr.PRNGKey(0)"
   ]
  },
  {
   "cell_type": "code",
   "execution_count": null,
   "id": "17214078",
   "metadata": {},
   "outputs": [],
   "source": [
    "from momi3.momi import Momi3\n",
    "import numpy as np\n",
    "momi_object = Momi3(g).iicr(2)\n",
    "# params = [(\"demes\", 0, \"epochs\", 0, \"start_size\"), (\"demes\", 1, \"epochs\", 0, \"start_size\")]\n",
    "params = [(\"demes\", 0, \"epochs\", 0, \"start_size\")]\n",
    "f, x = momi_object.reparameterize(list(params))\n",
    "parameters = list(x.keys())\n",
    "# x[parameters[0]] = np.array(8000.0)\n",
    "print(x)\n",
    "from momi3.jsfs import JSFS\n",
    "from momi3.momi import Momi3\n",
    "import jax\n",
    "# g is just a demes formatted demographic model \n",
    "momi_sfs_object = Momi3(g).sfs({'P0':20, 'P1':20})\n",
    "afs = ts.allele_frequency_spectrum(sample_sets=[ts.samples([1]), ts.samples([2])], span_normalise=False)\n",
    "jsfs = JSFS.from_dense(afs, [\"P0\", \"P1\"])\n",
    "# print(momi_sfs_object.loglik(x, jsfs))\n",
    "# this next line gives me errors, I *think* to obtain the likelihood you feed in # a joint SFS object\n",
    "# jax.grad(momi_sfs_object.loglik)(x, jsfs)"
   ]
  },
  {
   "cell_type": "code",
   "execution_count": null,
   "id": "512ccec6",
   "metadata": {},
   "outputs": [],
   "source": [
    "from jax import vmap\n",
    "import jax.numpy as jnp\n",
    "x_values = jnp.linspace(7000, 13000, 20)  # adjust these steps as needed\n",
    "\n",
    "# Vectorize the likelihood computation over x_values\n",
    "def compute_likelihood(val):\n",
    "    updated_x = x.copy()\n",
    "    updated_x[parameters[0]] = val\n",
    "    params = updated_x\n",
    "    return -momi_sfs_object.loglik(params, jsfs)\n",
    "\n",
    "# Use vmap to compute likelihoods for all x_values\n",
    "likelihoods = vmap(compute_likelihood)(x_values)"
   ]
  },
  {
   "cell_type": "code",
   "execution_count": null,
   "id": "1851349d",
   "metadata": {},
   "outputs": [],
   "source": [
    "import matplotlib.pyplot as plt\n",
    "# Plot\n",
    "plt.figure(figsize=(10, 6))\n",
    "plt.plot(x_values, likelihoods, label='Likelihood')\n",
    "plt.xlabel('x (parameter values)')\n",
    "plt.ylabel('Debugger Likelihood')\n",
    "plt.title('Debugger likelihood over parameters')\n",
    "plt.legend()\n",
    "plt.grid(True)\n",
    "plt.show()"
   ]
  }
 ],
 "metadata": {
  "language_info": {
   "name": "python"
  }
 },
 "nbformat": 4,
 "nbformat_minor": 5
}
